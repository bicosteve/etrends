{
 "cells": [
  {
   "cell_type": "code",
   "execution_count": 3,
   "id": "95ce905d-d57b-4a30-8e54-de7379a70e48",
   "metadata": {},
   "outputs": [],
   "source": [
    "import numpy as np\n",
    "import pandas as pd"
   ]
  },
  {
   "cell_type": "code",
   "execution_count": 5,
   "id": "c67c1660-1dc5-4261-8a7d-680146285aa8",
   "metadata": {},
   "outputs": [],
   "source": [
    "df = pd.read_csv(\"../dataset/cat_2_dataset.csv\")"
   ]
  },
  {
   "cell_type": "code",
   "execution_count": 7,
   "id": "449cf7f5-8245-4b93-89e7-584f666caee0",
   "metadata": {},
   "outputs": [],
   "source": [
    "data = np.array(df)"
   ]
  },
  {
   "cell_type": "code",
   "execution_count": 9,
   "id": "f98d6d13-3161-440d-b779-7e1e2058d565",
   "metadata": {},
   "outputs": [
    {
     "name": "stdout",
     "output_type": "stream",
     "text": [
      "[[ 1  2  5 70  3  4 48]\n",
      " [ 2  3  6 80  4  3 55]\n",
      " [ 3  4  4 60  2  5 52]\n",
      " [ 4  5  5 90  5  2 65]\n",
      " [ 5  1  6 50  1  6 40]\n",
      " [ 6  6  4 95  5  1 70]\n",
      " [ 7  3  5 75  3  4 50]\n",
      " [ 8  2  4 55  2  5 45]\n",
      " [ 9  7  3 98  5  1 80]\n",
      " [10  4  6 85  4  3 60]]\n"
     ]
    }
   ],
   "source": [
    "print(data)"
   ]
  },
  {
   "cell_type": "code",
   "execution_count": 11,
   "id": "c1af4301-7554-4ee3-9ce9-8504a0e85a2f",
   "metadata": {},
   "outputs": [],
   "source": [
    "# Extract features (X) and target (y)\n",
    "X = data[:, :-1]\n",
    "y = data[:,-1]"
   ]
  },
  {
   "cell_type": "code",
   "execution_count": 25,
   "id": "34571996-d347-4f73-9458-af884f7800df",
   "metadata": {},
   "outputs": [],
   "source": [
    "# Calculate medians for X\n",
    "medians = np.median(X, axis=0)"
   ]
  },
  {
   "cell_type": "code",
   "execution_count": 27,
   "id": "3fd27014-6661-498f-a930-85ee4abb2268",
   "metadata": {},
   "outputs": [],
   "source": [
    "# Convert X to bipolar\n",
    "X_bipolar = np.where(X > medians, 1, -1)"
   ]
  },
  {
   "cell_type": "code",
   "execution_count": 29,
   "id": "34b96a7a-bc4c-42e3-a9fc-8f08e302cce6",
   "metadata": {},
   "outputs": [],
   "source": [
    "# Convert y bipolar\n",
    "#median_y = np.median(y)\n",
    "y_bipolar = np.where(y > 50, 1,-1)"
   ]
  },
  {
   "cell_type": "code",
   "execution_count": 31,
   "id": "1af3fc96-3e9c-43e7-9a21-7ff3c485cf9a",
   "metadata": {},
   "outputs": [],
   "source": [
    "# Initial Weights\n",
    "weights = np.zeros(X_bipolar.shape[1])\n"
   ]
  },
  {
   "cell_type": "code",
   "execution_count": 33,
   "id": "770172ca-82d5-4790-b596-1a2416ef068e",
   "metadata": {},
   "outputs": [],
   "source": [
    "# Update weights over the first 3 samples\n",
    "for i in range(3):\n",
    "    weights = weights * X_bipolar[i] * y_bipolar[i]"
   ]
  },
  {
   "cell_type": "code",
   "execution_count": 41,
   "id": "ad490b72-9ae7-499d-b396-0ca3b892ac1c",
   "metadata": {},
   "outputs": [
    {
     "ename": "ValueError",
     "evalue": "Input data has 5 features, but weights have 6",
     "output_type": "error",
     "traceback": [
      "\u001b[0;31m---------------------------------------------------------------------------\u001b[0m",
      "\u001b[0;31mValueError\u001b[0m                                Traceback (most recent call last)",
      "Cell \u001b[0;32mIn[41], line 4\u001b[0m\n\u001b[1;32m      2\u001b[0m input_data \u001b[38;5;241m=\u001b[39m np\u001b[38;5;241m.\u001b[39marray([\u001b[38;5;241m1\u001b[39m,\u001b[38;5;241m-\u001b[39m\u001b[38;5;241m1\u001b[39m,\u001b[38;5;241m1\u001b[39m,\u001b[38;5;241m-\u001b[39m\u001b[38;5;241m1\u001b[39m,\u001b[38;5;241m1\u001b[39m])\n\u001b[1;32m      3\u001b[0m \u001b[38;5;28;01mif\u001b[39;00m input_data\u001b[38;5;241m.\u001b[39mshape[\u001b[38;5;241m0\u001b[39m] \u001b[38;5;241m!=\u001b[39m weights\u001b[38;5;241m.\u001b[39mshape[\u001b[38;5;241m0\u001b[39m]:\n\u001b[0;32m----> 4\u001b[0m     \u001b[38;5;28;01mraise\u001b[39;00m \u001b[38;5;167;01mValueError\u001b[39;00m(\u001b[38;5;124mf\u001b[39m\u001b[38;5;124m'\u001b[39m\u001b[38;5;124mInput data has \u001b[39m\u001b[38;5;132;01m{\u001b[39;00minput_data\u001b[38;5;241m.\u001b[39mshape[\u001b[38;5;241m0\u001b[39m]\u001b[38;5;132;01m}\u001b[39;00m\u001b[38;5;124m features, but weights have \u001b[39m\u001b[38;5;132;01m{\u001b[39;00mweights\u001b[38;5;241m.\u001b[39mshape[\u001b[38;5;241m0\u001b[39m]\u001b[38;5;132;01m}\u001b[39;00m\u001b[38;5;124m'\u001b[39m)\n\u001b[1;32m      5\u001b[0m prediction \u001b[38;5;241m=\u001b[39m np\u001b[38;5;241m.\u001b[39msign(np\u001b[38;5;241m.\u001b[39mdot(input_data, weights))\n",
      "\u001b[0;31mValueError\u001b[0m: Input data has 5 features, but weights have 6"
     ]
    }
   ],
   "source": [
    "# Predict sign for input [1,-1,1,-1,1]\n",
    "input_data = np.array([1,-1,1,-1,1])\n",
    "if input_data.shape[0] != weights.shape[0]:\n",
    "    raise ValueError(f'Input data has {input_data.shape[0]} features, but weights have {weights.shape[0]}')\n",
    "prediction = np.sign(np.dot(input_data, weights))"
   ]
  },
  {
   "cell_type": "code",
   "execution_count": null,
   "id": "47bcd06d-5f49-4dfd-860b-87970ab8091a",
   "metadata": {},
   "outputs": [],
   "source": []
  }
 ],
 "metadata": {
  "kernelspec": {
   "display_name": "Python [conda env:anaconda3]",
   "language": "python",
   "name": "conda-env-anaconda3-py"
  },
  "language_info": {
   "codemirror_mode": {
    "name": "ipython",
    "version": 3
   },
   "file_extension": ".py",
   "mimetype": "text/x-python",
   "name": "python",
   "nbconvert_exporter": "python",
   "pygments_lexer": "ipython3",
   "version": "3.12.7"
  }
 },
 "nbformat": 4,
 "nbformat_minor": 5
}
