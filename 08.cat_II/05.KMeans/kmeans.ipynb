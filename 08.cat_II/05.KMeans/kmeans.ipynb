{
 "cells": [
  {
   "cell_type": "code",
   "execution_count": 2,
   "id": "f35e74e3-a3fd-43c8-a45f-c205ebc6f670",
   "metadata": {},
   "outputs": [],
   "source": [
    "import pandas as pd\n",
    "from sklearn.cluster import KMeans"
   ]
  },
  {
   "cell_type": "code",
   "execution_count": 4,
   "id": "967312c2-6452-4419-98ae-c3d63a2b26b6",
   "metadata": {},
   "outputs": [],
   "source": [
    "data = pd.read_csv('../dataset/cat_2_dataset.csv')"
   ]
  },
  {
   "cell_type": "code",
   "execution_count": 6,
   "id": "ad24cc47-e0dd-42f8-8fc3-fb6cd93e4f09",
   "metadata": {},
   "outputs": [
    {
     "data": {
      "text/plain": [
       "Index(['ID', 'Study Hours', 'Sleep Hours', 'Attendance',\n",
       "       'Assignment Completed', 'Internet Usage (hrs)', 'Exam Scores'],\n",
       "      dtype='object')"
      ]
     },
     "execution_count": 6,
     "metadata": {},
     "output_type": "execute_result"
    }
   ],
   "source": [
    "data.columns"
   ]
  },
  {
   "cell_type": "code",
   "execution_count": 8,
   "id": "2f6f45d7-2e20-4bcb-9936-9af5a0fca96d",
   "metadata": {},
   "outputs": [],
   "source": [
    "# Selecting Features for clustering\n",
    "features = data[['Study Hours', 'Sleep Hours', 'Attendance','Assignment Completed', 'Internet Usage (hrs)', 'Exam Scores']]"
   ]
  },
  {
   "cell_type": "code",
   "execution_count": 12,
   "id": "91cc4ce0-e789-4db8-b0bc-ccfe2bbc3ff1",
   "metadata": {},
   "outputs": [],
   "source": [
    "# Apply KMeans clustering\n",
    "kmeans = KMeans(n_clusters=2, random_state=42)\n",
    "data['Cluster'] = kmeans.fit_predict(features)"
   ]
  },
  {
   "cell_type": "code",
   "execution_count": 14,
   "id": "26f9457e-10d9-4acf-a141-2b0a56fb571f",
   "metadata": {},
   "outputs": [
    {
     "name": "stdout",
     "output_type": "stream",
     "text": [
      "Cluster labels for each student: \n",
      "   ID  Cluster\n",
      "0   1        1\n",
      "1   2        0\n",
      "2   3        1\n",
      "3   4        0\n",
      "4   5        1\n",
      "5   6        0\n",
      "6   7        1\n",
      "7   8        1\n",
      "8   9        0\n",
      "9  10        0\n"
     ]
    }
   ],
   "source": [
    "# Print the cluster labels for each student\n",
    "print(\"Cluster labels for each student: \")\n",
    "print(data[['ID','Cluster']])"
   ]
  },
  {
   "cell_type": "code",
   "execution_count": null,
   "id": "8abd0c79-0a7a-43a3-ae17-f0141a3f8133",
   "metadata": {},
   "outputs": [],
   "source": []
  }
 ],
 "metadata": {
  "kernelspec": {
   "display_name": "Python [conda env:anaconda3]",
   "language": "python",
   "name": "conda-env-anaconda3-py"
  },
  "language_info": {
   "codemirror_mode": {
    "name": "ipython",
    "version": 3
   },
   "file_extension": ".py",
   "mimetype": "text/x-python",
   "name": "python",
   "nbconvert_exporter": "python",
   "pygments_lexer": "ipython3",
   "version": "3.12.7"
  }
 },
 "nbformat": 4,
 "nbformat_minor": 5
}
