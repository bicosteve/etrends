{
 "cells": [
  {
   "cell_type": "code",
   "execution_count": 6,
   "id": "95ce905d-d57b-4a30-8e54-de7379a70e48",
   "metadata": {},
   "outputs": [],
   "source": [
    "import numpy as np\n",
    "import pandas as pd"
   ]
  },
  {
   "cell_type": "code",
   "execution_count": 8,
   "id": "c67c1660-1dc5-4261-8a7d-680146285aa8",
   "metadata": {},
   "outputs": [],
   "source": [
    "df = pd.read_csv(\"../dataset/cat_2_dataset.csv\")"
   ]
  },
  {
   "cell_type": "code",
   "execution_count": 10,
   "id": "449cf7f5-8245-4b93-89e7-584f666caee0",
   "metadata": {},
   "outputs": [],
   "source": [
    "data = np.array(df)"
   ]
  },
  {
   "cell_type": "code",
   "execution_count": 12,
   "id": "f98d6d13-3161-440d-b779-7e1e2058d565",
   "metadata": {},
   "outputs": [
    {
     "name": "stdout",
     "output_type": "stream",
     "text": [
      "[[ 1  2  5 70  3  4 48]\n",
      " [ 2  3  6 80  4  3 55]\n",
      " [ 3  4  4 60  2  5 52]\n",
      " [ 4  5  5 90  5  2 65]\n",
      " [ 5  1  6 50  1  6 40]\n",
      " [ 6  6  4 95  5  1 70]\n",
      " [ 7  3  5 75  3  4 50]\n",
      " [ 8  2  4 55  2  5 45]\n",
      " [ 9  7  3 98  5  1 80]\n",
      " [10  4  6 85  4  3 60]]\n"
     ]
    }
   ],
   "source": [
    "print(data)"
   ]
  },
  {
   "cell_type": "code",
   "execution_count": 14,
   "id": "c1af4301-7554-4ee3-9ce9-8504a0e85a2f",
   "metadata": {},
   "outputs": [],
   "source": [
    "# Extract features (X) and target (y)\n",
    "X = data[:, :-1]\n",
    "y = data[:,-1]"
   ]
  },
  {
   "cell_type": "code",
   "execution_count": 16,
   "id": "3fd27014-6661-498f-a930-85ee4abb2268",
   "metadata": {},
   "outputs": [],
   "source": [
    "# Convert to bipolar values\n",
    "median_X = np.median(X, axis=0)\n",
    "X_bipolar = np.where(X > median_X, 1, -1)"
   ]
  },
  {
   "cell_type": "code",
   "execution_count": 18,
   "id": "34b96a7a-bc4c-42e3-a9fc-8f08e302cce6",
   "metadata": {},
   "outputs": [],
   "source": [
    "# Get the y median and bypolar\n",
    "median_y = np.median(y)\n",
    "y_bipolar = np.where(y > 50, 1,-1)"
   ]
  },
  {
   "cell_type": "code",
   "execution_count": null,
   "id": "1af3fc96-3e9c-43e7-9a21-7ff3c485cf9a",
   "metadata": {},
   "outputs": [],
   "source": [
    "# Initial Weights\n",
    "weights = np.zeros(X.shape[1])\n"
   ]
  }
 ],
 "metadata": {
  "kernelspec": {
   "display_name": "Python [conda env:anaconda3]",
   "language": "python",
   "name": "conda-env-anaconda3-py"
  },
  "language_info": {
   "codemirror_mode": {
    "name": "ipython",
    "version": 3
   },
   "file_extension": ".py",
   "mimetype": "text/x-python",
   "name": "python",
   "nbconvert_exporter": "python",
   "pygments_lexer": "ipython3",
   "version": "3.12.7"
  }
 },
 "nbformat": 4,
 "nbformat_minor": 5
}
